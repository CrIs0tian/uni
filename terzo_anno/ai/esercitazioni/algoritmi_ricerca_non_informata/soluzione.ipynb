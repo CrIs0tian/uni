{
 "cells": [
  {
   "cell_type": "markdown",
   "metadata": {},
   "source": [
    "### domanda 1\n",
    "\n",
    "il percorso scelto per il test è Oradea-Iasi\n",
    "\n",
    "| nome algoritmo | path-cost | p/sp | n. iterazioni path |\n",
    "| --- | --- | --- | --- |   \n",
    "| Breadth-First Search (tree version) |infinito | infinito/748| 381|\n",
    "| Depth-First Search (tree version) |infinito | inifito/748 | 147 | \n",
    "| Breadth-First Search (graph version) | 780 |780 / 748 | 45 | \n",
    "| Depth-First Search (graph version) |780 | 780/780 | 31 | \n",
    "| Uniform Cost Search | 748 | 748/748 | 54 | \n",
    "\n",
    "l'algoritmo che trova la soluzione ottima è lo `uniform cost search`. La ricerca a costo uniforme è una implementazione dell'algoritmo di ricerca best first, dove ad ogni iterazione viene visitato il nodo nella frontiera con il valore f migliore, in questo caso f è uguale al costo del cammino dalla radice al nodo espanso. Dopo averlo visitato, espando i successori del nodo e aggiungo alla frontiera i nodi successori non ancora visitati, ooppure nodi che magari sono stati visitati in passato, ma adesso hano un costo del cammino piu piccolo rispetto a quello stimato prima. Ad ogni iterazione, quindi, viene espanso un nodo chefa parte del cammino ottimo verso la soluzione. \n",
    "Gli unici algoritmi che non trovano la soluzione sono le ricerce in ampiezza e in profondità, tutti e due su alberi. Eseguendoli, infatti, arrivano ad un certo momento dove trovano un ciclo, e visitano quel ciclo all'infinito, oppure dopo aver espanso i successori di un nodo, esso viene 'dimenticato' e quando visiteremo uno dei successori, esso riespanderà il nodo visitato prima, che dopo essere visitato ripetera il passo prima, risultando quindi in un altro loop. \n",
    "\n",
    "Questo problema può essere risolto modificando un po il comportamento delle due ricerce"
   ]
  }
 ],
 "metadata": {
  "language_info": {
   "name": "python"
  }
 },
 "nbformat": 4,
 "nbformat_minor": 2
}
